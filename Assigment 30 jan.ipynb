{
 "cells": [
  {
   "cell_type": "code",
   "execution_count": null,
   "id": "c99d24af-980b-476f-b3f7-c55020644b16",
   "metadata": {},
   "outputs": [],
   "source": [
    "Ans = 1\n",
    "percentage = float(input(\"Enter your percentage: \"))\n",
    "\n",
    "if percentage > 90:\n",
    "    grade = \"A\"\n",
    "elif percentage > 80:\n",
    "    grade = \"B\"\n",
    "elif percentage >= 60:\n",
    "    grade = \"C\"\n",
    "else:\n",
    "    grade = \"D\"\n",
    "\n",
    "print(\"Your grade is:\", grade)\n"
   ]
  },
  {
   "cell_type": "code",
   "execution_count": null,
   "id": "cfc21f33-8592-42f1-a459-125b9e5df742",
   "metadata": {},
   "outputs": [],
   "source": [
    "Ans = 2\n",
    "cost_price = float(input(\"Enter the cost price of the bike: \"))\n",
    "\n",
    "if cost_price > 100000:\n",
    "    road_tax = cost_price * 0.15\n",
    "elif cost_price > 50000:\n",
    "    road_tax = cost_price * 0.1\n",
    "else:\n",
    "    road_tax = cost_price * 0.05\n",
    "\n",
    "print(\"The road tax to be paid is:\", road_tax, \"Rs.\")\n"
   ]
  },
  {
   "cell_type": "code",
   "execution_count": null,
   "id": "b4e64e30-bf89-47e2-9d3c-b2d91fcc2dca",
   "metadata": {},
   "outputs": [],
   "source": [
    "Ans = 3\n",
    "city = input(\"Enter a city: \")\n",
    "\n",
    "if city.lower() == \"delhi\":\n",
    "    monument = \"Red Fort\"\n",
    "elif city.lower() == \"agra\":\n",
    "    monument = \"Taj Mahal\"\n",
    "elif city.lower() == \"jaipur\":\n",
    "    monument = \"Jal Mahal\"\n",
    "else:\n",
    "    monument = \"Unknown\"\n",
    "\n",
    "if monument == \"Unknown\":\n",
    "    print(\"Sorry, we don't have information about the monuments of\", city)\n",
    "else:\n",
    "    print(\"The monument of\", city, \"is\", monument)\n"
   ]
  },
  {
   "cell_type": "code",
   "execution_count": null,
   "id": "c57720df-992a-497d-a78c-3612cb1d72d7",
   "metadata": {},
   "outputs": [],
   "source": [
    "Ans = 4\n",
    "number = int(input(\"Enter a number: \"))\n",
    "count = 0\n",
    "\n",
    "while number > 10:\n",
    "    number /= 3\n",
    "    count += 1\n",
    "\n",
    "print(\"The given number can be divided by 3\", count, \"times before it is less than or equal to 10.\")\n"
   ]
  },
  {
   "cell_type": "code",
   "execution_count": null,
   "id": "78f5ac2e-ea5d-4b29-8d01-b086fe0a9f8f",
   "metadata": {},
   "outputs": [],
   "source": [
    "Ans = 5\n",
    "number = int(input(\"Enter a number: \"))\n",
    "count = 0\n",
    "\n",
    "while number > 10:\n",
    "    number /= 3\n",
    "    count += 1\n",
    "\n",
    "print(\"The number can be divided by 3\", count, \"times before it is less than or equal to 10.\")\n"
   ]
  },
  {
   "cell_type": "code",
   "execution_count": null,
   "id": "17ec9063-fbfd-42e8-8cca-302bdc835ef5",
   "metadata": {},
   "outputs": [],
   "source": [
    "Ans = 6\n",
    "num = 10\n",
    "\n",
    "while num >= 1:\n",
    "    print(num)\n",
    "    num -= 1\n",
    " "
   ]
  },
  {
   "cell_type": "code",
   "execution_count": null,
   "id": "34494512-dd7a-45c0-8ffd-48869fdff850",
   "metadata": {},
   "outputs": [],
   "source": [
    "Ans = 7\n",
    "num = 10\n",
    "\n",
    "while num >= 1:\n",
    "    print(num)\n",
    "    num -= 1\n"
   ]
  }
 ],
 "metadata": {
  "kernelspec": {
   "display_name": "Python 3 (ipykernel)",
   "language": "python",
   "name": "python3"
  },
  "language_info": {
   "codemirror_mode": {
    "name": "ipython",
    "version": 3
   },
   "file_extension": ".py",
   "mimetype": "text/x-python",
   "name": "python",
   "nbconvert_exporter": "python",
   "pygments_lexer": "ipython3",
   "version": "3.10.8"
  }
 },
 "nbformat": 4,
 "nbformat_minor": 5
}
